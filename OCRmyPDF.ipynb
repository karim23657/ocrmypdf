{
  "nbformat": 4,
  "nbformat_minor": 0,
  "metadata": {
    "colab": {
      "name": "OCRmyPDF.ipynb",
      "provenance": [],
      "collapsed_sections": [],
      "include_colab_link": true
    },
    "kernelspec": {
      "display_name": "Python 3",
      "language": "python",
      "name": "python3"
    },
    "language_info": {
      "codemirror_mode": {
        "name": "ipython",
        "version": 3
      },
      "file_extension": ".py",
      "mimetype": "text/x-python",
      "name": "python",
      "nbconvert_exporter": "python",
      "pygments_lexer": "ipython3",
      "version": "3.7.1-final"
    }
  },
  "cells": [
    {
      "cell_type": "markdown",
      "metadata": {
        "id": "view-in-github",
        "colab_type": "text"
      },
      "source": [
        "<a href=\"https://colab.research.google.com/github/karim23657/ocrmypdf/blob/main/OCRmyPDF.ipynb\" target=\"_parent\"><img src=\"https://colab.research.google.com/assets/colab-badge.svg\" alt=\"Open In Colab\"/></a>"
      ]
    },
    {
      "cell_type": "markdown",
      "metadata": {
        "id": "pgh6eBiXVOZP"
      },
      "source": [
        "![images.png](data:image/png;base64,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)\n",
        "# OCRmyPDF on Google Colab \n",
        "Initially install all the necessary packages on to the Google Colab instance. The below algorithm is used to convert scanned 'Persian & English' documents. "
      ]
    },
    {
      "cell_type": "code",
      "metadata": {
        "id": "N_z3NYxMVOZd"
      },
      "source": [
        "#Installing packages N\n",
        "#!pip install pytesseract\n",
        "#!sudo apt install tesseract-ocr\n",
        "#!apt-get update\n",
        "#!pip install pdf2image\n",
        "#!apt-get install poppler-utils\n",
        "#!sudo apt-get install tesseract-ocr-fas"
      ],
      "execution_count": null,
      "outputs": []
    },
    {
      "cell_type": "markdown",
      "metadata": {
        "id": "Dj2ca4zLgT_Y"
      },
      "source": [
        "# Install all the necessary packages"
      ]
    },
    {
      "cell_type": "code",
      "metadata": {
        "id": "j5vvm1q4b8zt"
      },
      "source": [
        "!sudo apt-get -y remove ocrmypdf\n",
        "!sudo apt-get -y update\n",
        "!sudo apt-get -y install \\\n",
        "    ghostscript \\\n",
        "    icc-profiles-free \\\n",
        "    liblept5 \\\n",
        "    libxml2 \\\n",
        "    pngquant \\\n",
        "    python3-cffi \\\n",
        "    python3-distutils \\\n",
        "    python3-pkg-resources \\\n",
        "    python3-reportlab \\\n",
        "    qpdf \\\n",
        "    tesseract-ocr \\\n",
        "    zlib1g \\\n",
        "    unpaper\n",
        "!pip install ocrmypdf"
      ],
      "execution_count": null,
      "outputs": []
    },
    {
      "cell_type": "markdown",
      "metadata": {
        "id": "NFwYLINljSYd"
      },
      "source": [
        "# Install your desiered language\n",
        "\n",
        "\n",
        "from the drop down list select your language and execute code\n",
        "\n",
        "💠 If you have more than one language in your document execute code for each one \n",
        "\n",
        "---\n",
        "\n",
        "\n",
        "\n",
        "\n"
      ]
    },
    {
      "cell_type": "code",
      "metadata": {
        "id": "ARA2RsS3j0Fg"
      },
      "source": [
        "#@title Select your document language\n",
        "languages = 'tesseract-ocr-aze - tesseract-ocr language files for Azerbaijani' #@param [\"tesseract-ocr - Tesseract command line OCR tool\",\"tesseract-ocr-afr - tesseract-ocr language files for Afrikaans\",\"tesseract-ocr-all - Tesseract OCR with all language and script packages\",\"tesseract-ocr-amh - tesseract-ocr language files for Amharic\",\"tesseract-ocr-ara - tesseract-ocr language files for Arabic\",\"tesseract-ocr-asm - tesseract-ocr language files for Assamese\",\"tesseract-ocr-aze - tesseract-ocr language files for Azerbaijani\",\"tesseract-ocr-aze-cyrl - tesseract-ocr language files for Azerbaijani (Cyrillic)\",\"tesseract-ocr-bel - tesseract-ocr language files for Belarusian\",\"tesseract-ocr-ben - tesseract-ocr language files for Bengali\",\"tesseract-ocr-bod - tesseract-ocr language files for Tibetan Standard\",\"tesseract-ocr-bos - tesseract-ocr language files for Bosnian\",\"tesseract-ocr-bre - tesseract-ocr language files for Breton\",\"tesseract-ocr-bul - tesseract-ocr language files for Bulgarian\",\"tesseract-ocr-cat - tesseract-ocr language files for Catalan\",\"tesseract-ocr-ceb - tesseract-ocr language files for Cebuano\",\"tesseract-ocr-ces - tesseract-ocr language files for Czech\",\"tesseract-ocr-chi-sim - tesseract-ocr language files for Chinese - Simplified\",\"tesseract-ocr-chi-sim-vert - tesseract-ocr language files for Chinese - Simplified (vertical)\",\"tesseract-ocr-chi-tra - tesseract-ocr language files for Chinese - Traditional\",\"tesseract-ocr-chi-tra-vert - tesseract-ocr language files for Chinese - Traditional (vertical)\",\"tesseract-ocr-chr - tesseract-ocr language files for Cherokee\",\"tesseract-ocr-cos - tesseract-ocr language files for Corsican\",\"tesseract-ocr-cym - tesseract-ocr language files for Welsh\",\"tesseract-ocr-dan - tesseract-ocr language files for Danish\",\"tesseract-ocr-deu - tesseract-ocr language files for German\",\"tesseract-ocr-div - tesseract-ocr language files for Divehi\",\"tesseract-ocr-dzo - tesseract-ocr language files for Dzongkha\",\"tesseract-ocr-ell - tesseract-ocr language files for Greek\",\"tesseract-ocr-eng - tesseract-ocr language files for English\",\"tesseract-ocr-enm - tesseract-ocr language files for English, Middle (1100-1500)\",\"tesseract-ocr-epo - tesseract-ocr language files for Esperanto\",\"tesseract-ocr-est - tesseract-ocr language files for Estonian\",\"tesseract-ocr-eus - tesseract-ocr language files for Basque\",\"tesseract-ocr-fao - tesseract-ocr language files for Faroese\",\"tesseract-ocr-fas - tesseract-ocr language files for Persian\",\"tesseract-ocr-fil - tesseract-ocr language files for Filipino\",\"tesseract-ocr-fin - tesseract-ocr language files for Finnish\",\"tesseract-ocr-fra - tesseract-ocr language files for French\",\"tesseract-ocr-frk - tesseract-ocr language files for Frankish\",\"tesseract-ocr-frm - tesseract-ocr language files for French, Middle (ca.1400-1600)\",\"tesseract-ocr-fry - tesseract-ocr language files for Frisian (Western)\",\"tesseract-ocr-gla - tesseract-ocr language files for Gaelic (Scots)\",\"tesseract-ocr-gle - tesseract-ocr language files for Irish\",\"tesseract-ocr-glg - tesseract-ocr language files for Galician\",\"tesseract-ocr-guj - tesseract-ocr language files for Gujarati\",\"tesseract-ocr-hat - tesseract-ocr language files for Hatian\",\"tesseract-ocr-heb - tesseract-ocr language files for Hebrew\",\"tesseract-ocr-hin - tesseract-ocr language files for Hindi\",\"tesseract-ocr-hrv - tesseract-ocr language files for Croatian\",\"tesseract-ocr-hun - tesseract-ocr language files for Hungarian\",\"tesseract-ocr-hye - tesseract-ocr language files for Armenian\",\"tesseract-ocr-iku - tesseract-ocr language files for Inuktitut\",\"tesseract-ocr-ind - tesseract-ocr language files for Indonesian\",\"tesseract-ocr-isl - tesseract-ocr language files for Icelandic\",\"tesseract-ocr-ita - tesseract-ocr language files for Italian\",\"tesseract-ocr-ita-old - tesseract-ocr language files for Italian - Old\"]\n",
        "cv ='sudo apt-get install '+dropdown.split(' - ')[0];\n",
        "print('!'+cv)\n",
        "!eval $cv"
      ],
      "execution_count": null,
      "outputs": []
    },
    {
      "cell_type": "markdown",
      "metadata": {
        "id": "WvXyNu4Ajwfk"
      },
      "source": [
        "# Mount Gdrive & Uploading your document\n",
        "you can change code and upload it from local\n",
        "\n",
        "**for language code :** *for example if you selected* \"**tesseract-ocr-aze**\" *your language code will be* \"**aze**\""
      ]
    },
    {
      "cell_type": "code",
      "metadata": {
        "id": "O_9sYlrjc_6t"
      },
      "source": [
        "#@title Enter link and name of your document and the name of your output file with extension\n",
        "url = \"\" #@param {type:\"string\"}\n",
        "filename = \"\" #@param {type:\"string\"}\n",
        "outputname = \"\" #@param {type:\"string\"}\n",
        "langcode = \"\" #@param {type:\"string\"}\n",
        "from google.colab import drive\n",
        "drive.mount('/content/drive')\n",
        "cd /content/drive/MyDrive\n",
        "!wget -O $filename $url\n",
        "!ocrmypdf --output-type pdf -l $langcode $filename $outputname --force-ocr\n",
        "print('Congragultions!!!!!!!!')\n",
        "print('Your file saved in your drive')"
      ],
      "execution_count": null,
      "outputs": []
    }
  ]
}